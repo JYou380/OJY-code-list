{
 "cells": [
  {
   "cell_type": "code",
   "execution_count": 8,
   "metadata": {},
   "outputs": [],
   "source": [
    "import numpy as np\n",
    "import pandas as pd\n",
    "import matplotlib.pyplot as plt\n",
    "import gc\n",
    "import warnings\n",
    "warnings.filterwarnings('ignore')\n"
   ]
  },
  {
   "cell_type": "code",
   "execution_count": 34,
   "metadata": {},
   "outputs": [],
   "source": [
    "RF_RMSE_list=[2.0945,1.9940,2.4511,1.4267,1.6726,1.836,1.9001,1.67118,2.763,1.995]\n",
    "LGBM_RMSE_list=[2.0051,1.633,2.535,1.259,1.718,2.056,1.6934,1.39003,2.1231,1.827]"
   ]
  },
  {
   "cell_type": "code",
   "execution_count": 35,
   "metadata": {},
   "outputs": [
    {
     "name": "stdout",
     "output_type": "stream",
     "text": [
      "1.9804179999999998\n"
     ]
    }
   ],
   "source": [
    "print (np.mean(RF_RMSE_list))"
   ]
  },
  {
   "cell_type": "code",
   "execution_count": 16,
   "metadata": {},
   "outputs": [
    {
     "data": {
      "image/png": "[encoded data removed]",
      "text/plain": [
       "<Figure size 640x480 with 1 Axes>"
      ]
     },
     "metadata": {},
     "output_type": "display_data"
    }
   ],
   "source": [
    "plt.plot(LGBM_RMSE_list,RF_RMSE_list,'r.')\n",
    "plt.xlabel('LGBM RMSE')\n",
    "plt.ylabel('RF RMSE')\n",
    "x=np.linspace(1,3,10)\n",
    "y=x\n",
    "plt.plot(x,y,'k--')\n",
    "plt.xlim(1,3)\n",
    "plt.ylim(1,3)\n",
    "plt.savefig('LGBM_RF.png')"
   ]
  },
  {
   "cell_type": "code",
   "execution_count": 17,
   "metadata": {},
   "outputs": [],
   "source": [
    "cal=pd.read_csv('./data/calendar.csv')\n",
    "sales_train_evaluation=pd.read_csv('data/sales_train_evaluation.csv')\n",
    "sell_prices=pd.read_csv('data/sell_prices.csv')"
   ]
  },
  {
   "cell_type": "code",
   "execution_count": 18,
   "metadata": {},
   "outputs": [],
   "source": [
    "submission_RF=pd.read_csv('submission_RF.csv')"
   ]
  },
  {
   "cell_type": "code",
   "execution_count": 19,
   "metadata": {},
   "outputs": [
    {
     "data": {
      "text/html": [
       "<div>\n",
       "<style scoped>\n",
       "    .dataframe tbody tr th:only-of-type {\n",
       "        vertical-align: middle;\n",
       "    }\n",
       "\n",
       "    .dataframe tbody tr th {\n",
       "        vertical-align: top;\n",
       "    }\n",
       "\n",
       "    .dataframe thead th {\n",
       "        text-align: right;\n",
       "    }\n",
       "</style>\n",
       "<table border=\"1\" class=\"dataframe\">\n",
       "  <thead>\n",
       "    <tr style=\"text-align: right;\">\n",
       "      <th></th>\n",
       "      <th>Unnamed: 0</th>\n",
       "      <th>id</th>\n",
       "      <th>F1</th>\n",
       "      <th>F2</th>\n",
       "      <th>F3</th>\n",
       "      <th>F4</th>\n",
       "      <th>F5</th>\n",
       "      <th>F6</th>\n",
       "      <th>F7</th>\n",
       "      <th>F8</th>\n",
       "      <th>...</th>\n",
       "      <th>F19</th>\n",
       "      <th>F20</th>\n",
       "      <th>F21</th>\n",
       "      <th>F22</th>\n",
       "      <th>F23</th>\n",
       "      <th>F24</th>\n",
       "      <th>F25</th>\n",
       "      <th>F26</th>\n",
       "      <th>F27</th>\n",
       "      <th>F28</th>\n",
       "    </tr>\n",
       "  </thead>\n",
       "  <tbody>\n",
       "    <tr>\n",
       "      <th>0</th>\n",
       "      <td>0</td>\n",
       "      <td>HOBBIES_1_001_CA_1_validation</td>\n",
       "      <td>0.571924</td>\n",
       "      <td>0.549656</td>\n",
       "      <td>0.521393</td>\n",
       "      <td>0.542062</td>\n",
       "      <td>0.564117</td>\n",
       "      <td>0.691457</td>\n",
       "      <td>0.591534</td>\n",
       "      <td>0.758412</td>\n",
       "      <td>...</td>\n",
       "      <td>0.598663</td>\n",
       "      <td>0.839422</td>\n",
       "      <td>1.085910</td>\n",
       "      <td>0.726496</td>\n",
       "      <td>0.504568</td>\n",
       "      <td>0.414098</td>\n",
       "      <td>0.517167</td>\n",
       "      <td>0.863892</td>\n",
       "      <td>1.149635</td>\n",
       "      <td>0.526622</td>\n",
       "    </tr>\n",
       "    <tr>\n",
       "      <th>1</th>\n",
       "      <td>1</td>\n",
       "      <td>HOBBIES_1_002_CA_1_validation</td>\n",
       "      <td>0.229713</td>\n",
       "      <td>0.330171</td>\n",
       "      <td>0.471471</td>\n",
       "      <td>0.313153</td>\n",
       "      <td>0.165081</td>\n",
       "      <td>0.173899</td>\n",
       "      <td>0.169358</td>\n",
       "      <td>0.363782</td>\n",
       "      <td>...</td>\n",
       "      <td>0.166103</td>\n",
       "      <td>0.174652</td>\n",
       "      <td>0.379656</td>\n",
       "      <td>0.508283</td>\n",
       "      <td>0.459796</td>\n",
       "      <td>0.471493</td>\n",
       "      <td>0.313735</td>\n",
       "      <td>0.342380</td>\n",
       "      <td>0.436883</td>\n",
       "      <td>0.430779</td>\n",
       "    </tr>\n",
       "    <tr>\n",
       "      <th>2</th>\n",
       "      <td>2</td>\n",
       "      <td>HOBBIES_1_003_CA_1_validation</td>\n",
       "      <td>0.511612</td>\n",
       "      <td>0.468794</td>\n",
       "      <td>0.384811</td>\n",
       "      <td>0.498880</td>\n",
       "      <td>0.608885</td>\n",
       "      <td>0.477564</td>\n",
       "      <td>0.562402</td>\n",
       "      <td>0.486461</td>\n",
       "      <td>...</td>\n",
       "      <td>0.520387</td>\n",
       "      <td>0.692975</td>\n",
       "      <td>0.555375</td>\n",
       "      <td>0.420763</td>\n",
       "      <td>0.439602</td>\n",
       "      <td>0.371300</td>\n",
       "      <td>0.362698</td>\n",
       "      <td>0.622443</td>\n",
       "      <td>0.703946</td>\n",
       "      <td>0.655617</td>\n",
       "    </tr>\n",
       "    <tr>\n",
       "      <th>3</th>\n",
       "      <td>3</td>\n",
       "      <td>HOBBIES_1_004_CA_1_validation</td>\n",
       "      <td>2.351183</td>\n",
       "      <td>1.394482</td>\n",
       "      <td>1.254957</td>\n",
       "      <td>1.695332</td>\n",
       "      <td>2.344336</td>\n",
       "      <td>3.073502</td>\n",
       "      <td>2.933100</td>\n",
       "      <td>2.190875</td>\n",
       "      <td>...</td>\n",
       "      <td>2.169585</td>\n",
       "      <td>2.483761</td>\n",
       "      <td>3.091729</td>\n",
       "      <td>1.773396</td>\n",
       "      <td>1.877424</td>\n",
       "      <td>1.606104</td>\n",
       "      <td>1.648758</td>\n",
       "      <td>2.001424</td>\n",
       "      <td>1.994557</td>\n",
       "      <td>2.804731</td>\n",
       "    </tr>\n",
       "    <tr>\n",
       "      <th>4</th>\n",
       "      <td>4</td>\n",
       "      <td>HOBBIES_1_005_CA_1_validation</td>\n",
       "      <td>1.200096</td>\n",
       "      <td>1.074119</td>\n",
       "      <td>1.062718</td>\n",
       "      <td>1.188878</td>\n",
       "      <td>1.413420</td>\n",
       "      <td>1.612824</td>\n",
       "      <td>1.332291</td>\n",
       "      <td>1.049909</td>\n",
       "      <td>...</td>\n",
       "      <td>1.397514</td>\n",
       "      <td>1.345792</td>\n",
       "      <td>1.419636</td>\n",
       "      <td>1.042275</td>\n",
       "      <td>1.277361</td>\n",
       "      <td>1.246123</td>\n",
       "      <td>1.031862</td>\n",
       "      <td>0.866480</td>\n",
       "      <td>1.288447</td>\n",
       "      <td>1.470940</td>\n",
       "    </tr>\n",
       "    <tr>\n",
       "      <th>...</th>\n",
       "      <td>...</td>\n",
       "      <td>...</td>\n",
       "      <td>...</td>\n",
       "      <td>...</td>\n",
       "      <td>...</td>\n",
       "      <td>...</td>\n",
       "      <td>...</td>\n",
       "      <td>...</td>\n",
       "      <td>...</td>\n",
       "      <td>...</td>\n",
       "      <td>...</td>\n",
       "      <td>...</td>\n",
       "      <td>...</td>\n",
       "      <td>...</td>\n",
       "      <td>...</td>\n",
       "      <td>...</td>\n",
       "      <td>...</td>\n",
       "      <td>...</td>\n",
       "      <td>...</td>\n",
       "      <td>...</td>\n",
       "      <td>...</td>\n",
       "    </tr>\n",
       "    <tr>\n",
       "      <th>60975</th>\n",
       "      <td>60975</td>\n",
       "      <td>FOODS_3_823_WI_3_evaluation</td>\n",
       "      <td>0.711500</td>\n",
       "      <td>0.636969</td>\n",
       "      <td>0.539096</td>\n",
       "      <td>0.207778</td>\n",
       "      <td>0.599158</td>\n",
       "      <td>0.576468</td>\n",
       "      <td>0.705221</td>\n",
       "      <td>0.354855</td>\n",
       "      <td>...</td>\n",
       "      <td>0.303601</td>\n",
       "      <td>0.213109</td>\n",
       "      <td>0.318531</td>\n",
       "      <td>0.211318</td>\n",
       "      <td>0.312429</td>\n",
       "      <td>0.208827</td>\n",
       "      <td>0.292654</td>\n",
       "      <td>0.300571</td>\n",
       "      <td>0.211934</td>\n",
       "      <td>0.219031</td>\n",
       "    </tr>\n",
       "    <tr>\n",
       "      <th>60976</th>\n",
       "      <td>60976</td>\n",
       "      <td>FOODS_3_824_WI_3_evaluation</td>\n",
       "      <td>0.437582</td>\n",
       "      <td>0.177524</td>\n",
       "      <td>0.339153</td>\n",
       "      <td>0.379133</td>\n",
       "      <td>0.376582</td>\n",
       "      <td>0.379061</td>\n",
       "      <td>0.186614</td>\n",
       "      <td>0.184199</td>\n",
       "      <td>...</td>\n",
       "      <td>0.173531</td>\n",
       "      <td>0.183448</td>\n",
       "      <td>0.189380</td>\n",
       "      <td>0.184935</td>\n",
       "      <td>0.180588</td>\n",
       "      <td>0.181214</td>\n",
       "      <td>0.179956</td>\n",
       "      <td>0.173473</td>\n",
       "      <td>0.249875</td>\n",
       "      <td>0.186576</td>\n",
       "    </tr>\n",
       "    <tr>\n",
       "      <th>60977</th>\n",
       "      <td>60977</td>\n",
       "      <td>FOODS_3_825_WI_3_evaluation</td>\n",
       "      <td>1.079878</td>\n",
       "      <td>0.971098</td>\n",
       "      <td>0.671982</td>\n",
       "      <td>0.592972</td>\n",
       "      <td>0.652619</td>\n",
       "      <td>0.806355</td>\n",
       "      <td>0.702220</td>\n",
       "      <td>0.700838</td>\n",
       "      <td>...</td>\n",
       "      <td>0.377387</td>\n",
       "      <td>0.381798</td>\n",
       "      <td>0.253744</td>\n",
       "      <td>0.241634</td>\n",
       "      <td>0.357436</td>\n",
       "      <td>0.367910</td>\n",
       "      <td>0.235353</td>\n",
       "      <td>0.354753</td>\n",
       "      <td>0.253393</td>\n",
       "      <td>0.373213</td>\n",
       "    </tr>\n",
       "    <tr>\n",
       "      <th>60978</th>\n",
       "      <td>60978</td>\n",
       "      <td>FOODS_3_826_WI_3_evaluation</td>\n",
       "      <td>1.186952</td>\n",
       "      <td>0.741194</td>\n",
       "      <td>0.583080</td>\n",
       "      <td>0.647965</td>\n",
       "      <td>0.586323</td>\n",
       "      <td>0.624746</td>\n",
       "      <td>0.649964</td>\n",
       "      <td>0.505066</td>\n",
       "      <td>...</td>\n",
       "      <td>0.284935</td>\n",
       "      <td>0.285125</td>\n",
       "      <td>0.294848</td>\n",
       "      <td>0.279059</td>\n",
       "      <td>0.287207</td>\n",
       "      <td>0.296455</td>\n",
       "      <td>0.342516</td>\n",
       "      <td>0.196344</td>\n",
       "      <td>0.282739</td>\n",
       "      <td>0.293054</td>\n",
       "    </tr>\n",
       "    <tr>\n",
       "      <th>60979</th>\n",
       "      <td>60979</td>\n",
       "      <td>FOODS_3_827_WI_3_evaluation</td>\n",
       "      <td>1.680722</td>\n",
       "      <td>0.856642</td>\n",
       "      <td>0.646312</td>\n",
       "      <td>0.812820</td>\n",
       "      <td>0.995720</td>\n",
       "      <td>1.198077</td>\n",
       "      <td>0.647795</td>\n",
       "      <td>0.663671</td>\n",
       "      <td>...</td>\n",
       "      <td>0.243060</td>\n",
       "      <td>0.251814</td>\n",
       "      <td>0.363196</td>\n",
       "      <td>0.383766</td>\n",
       "      <td>0.254843</td>\n",
       "      <td>0.416549</td>\n",
       "      <td>0.359540</td>\n",
       "      <td>0.242335</td>\n",
       "      <td>0.390843</td>\n",
       "      <td>0.376235</td>\n",
       "    </tr>\n",
       "  </tbody>\n",
       "</table>\n",
       "<p>60980 rows × 30 columns</p>\n",
       "</div>"
      ],
      "text/plain": [
       "       Unnamed: 0                             id        F1        F2  \\\n",
       "0               0  HOBBIES_1_001_CA_1_validation  0.571924  0.549656   \n",
       "1               1  HOBBIES_1_002_CA_1_validation  0.229713  0.330171   \n",
       "2               2  HOBBIES_1_003_CA_1_validation  0.511612  0.468794   \n",
       "3               3  HOBBIES_1_004_CA_1_validation  2.351183  1.394482   \n",
       "4               4  HOBBIES_1_005_CA_1_validation  1.200096  1.074119   \n",
       "...           ...                            ...       ...       ...   \n",
       "60975       60975    FOODS_3_823_WI_3_evaluation  0.711500  0.636969   \n",
       "60976       60976    FOODS_3_824_WI_3_evaluation  0.437582  0.177524   \n",
       "60977       60977    FOODS_3_825_WI_3_evaluation  1.079878  0.971098   \n",
       "60978       60978    FOODS_3_826_WI_3_evaluation  1.186952  0.741194   \n",
       "60979       60979    FOODS_3_827_WI_3_evaluation  1.680722  0.856642   \n",
       "\n",
       "             F3        F4        F5        F6        F7        F8  ...  \\\n",
       "0      0.521393  0.542062  0.564117  0.691457  0.591534  0.758412  ...   \n",
       "1      0.471471  0.313153  0.165081  0.173899  0.169358  0.363782  ...   \n",
       "2      0.384811  0.498880  0.608885  0.477564  0.562402  0.486461  ...   \n",
       "3      1.254957  1.695332  2.344336  3.073502  2.933100  2.190875  ...   \n",
       "4      1.062718  1.188878  1.413420  1.612824  1.332291  1.049909  ...   \n",
       "...         ...       ...       ...       ...       ...       ...  ...   \n",
       "60975  0.539096  0.207778  0.599158  0.576468  0.705221  0.354855  ...   \n",
       "60976  0.339153  0.379133  0.376582  0.379061  0.186614  0.184199  ...   \n",
       "60977  0.671982  0.592972  0.652619  0.806355  0.702220  0.700838  ...   \n",
       "60978  0.583080  0.647965  0.586323  0.624746  0.649964  0.505066  ...   \n",
       "60979  0.646312  0.812820  0.995720  1.198077  0.647795  0.663671  ...   \n",
       "\n",
       "            F19       F20       F21       F22       F23       F24       F25  \\\n",
       "0      0.598663  0.839422  1.085910  0.726496  0.504568  0.414098  0.517167   \n",
       "1      0.166103  0.174652  0.379656  0.508283  0.459796  0.471493  0.313735   \n",
       "2      0.520387  0.692975  0.555375  0.420763  0.439602  0.371300  0.362698   \n",
       "3      2.169585  2.483761  3.091729  1.773396  1.877424  1.606104  1.648758   \n",
       "4      1.397514  1.345792  1.419636  1.042275  1.277361  1.246123  1.031862   \n",
       "...         ...       ...       ...       ...       ...       ...       ...   \n",
       "60975  0.303601  0.213109  0.318531  0.211318  0.312429  0.208827  0.292654   \n",
       "60976  0.173531  0.183448  0.189380  0.184935  0.180588  0.181214  0.179956   \n",
       "60977  0.377387  0.381798  0.253744  0.241634  0.357436  0.367910  0.235353   \n",
       "60978  0.284935  0.285125  0.294848  0.279059  0.287207  0.296455  0.342516   \n",
       "60979  0.243060  0.251814  0.363196  0.383766  0.254843  0.416549  0.359540   \n",
       "\n",
       "            F26       F27       F28  \n",
       "0      0.863892  1.149635  0.526622  \n",
       "1      0.342380  0.436883  0.430779  \n",
       "2      0.622443  0.703946  0.655617  \n",
       "3      2.001424  1.994557  2.804731  \n",
       "4      0.866480  1.288447  1.470940  \n",
       "...         ...       ...       ...  \n",
       "60975  0.300571  0.211934  0.219031  \n",
       "60976  0.173473  0.249875  0.186576  \n",
       "60977  0.354753  0.253393  0.373213  \n",
       "60978  0.196344  0.282739  0.293054  \n",
       "60979  0.242335  0.390843  0.376235  \n",
       "\n",
       "[60980 rows x 30 columns]"
      ]
     },
     "execution_count": 19,
     "metadata": {},
     "output_type": "execute_result"
    }
   ],
   "source": [
    "submission_RF"
   ]
  },
  {
   "cell_type": "code",
   "execution_count": 20,
   "metadata": {},
   "outputs": [],
   "source": [
    "catalog_all=pd.melt(submission_RF,id_vars=['id'],var_name='F',value_name='sold')"
   ]
  },
  {
   "cell_type": "code",
   "execution_count": 21,
   "metadata": {},
   "outputs": [
    {
     "data": {
      "text/html": [
       "<div>\n",
       "<style scoped>\n",
       "    .dataframe tbody tr th:only-of-type {\n",
       "        vertical-align: middle;\n",
       "    }\n",
       "\n",
       "    .dataframe tbody tr th {\n",
       "        vertical-align: top;\n",
       "    }\n",
       "\n",
       "    .dataframe thead th {\n",
       "        text-align: right;\n",
       "    }\n",
       "</style>\n",
       "<table border=\"1\" class=\"dataframe\">\n",
       "  <thead>\n",
       "    <tr style=\"text-align: right;\">\n",
       "      <th></th>\n",
       "      <th>id</th>\n",
       "      <th>F</th>\n",
       "      <th>sold</th>\n",
       "    </tr>\n",
       "  </thead>\n",
       "  <tbody>\n",
       "    <tr>\n",
       "      <th>0</th>\n",
       "      <td>HOBBIES_1_001_CA_1_validation</td>\n",
       "      <td>Unnamed: 0</td>\n",
       "      <td>0.000000</td>\n",
       "    </tr>\n",
       "    <tr>\n",
       "      <th>1</th>\n",
       "      <td>HOBBIES_1_002_CA_1_validation</td>\n",
       "      <td>Unnamed: 0</td>\n",
       "      <td>1.000000</td>\n",
       "    </tr>\n",
       "    <tr>\n",
       "      <th>2</th>\n",
       "      <td>HOBBIES_1_003_CA_1_validation</td>\n",
       "      <td>Unnamed: 0</td>\n",
       "      <td>2.000000</td>\n",
       "    </tr>\n",
       "    <tr>\n",
       "      <th>3</th>\n",
       "      <td>HOBBIES_1_004_CA_1_validation</td>\n",
       "      <td>Unnamed: 0</td>\n",
       "      <td>3.000000</td>\n",
       "    </tr>\n",
       "    <tr>\n",
       "      <th>4</th>\n",
       "      <td>HOBBIES_1_005_CA_1_validation</td>\n",
       "      <td>Unnamed: 0</td>\n",
       "      <td>4.000000</td>\n",
       "    </tr>\n",
       "    <tr>\n",
       "      <th>...</th>\n",
       "      <td>...</td>\n",
       "      <td>...</td>\n",
       "      <td>...</td>\n",
       "    </tr>\n",
       "    <tr>\n",
       "      <th>1768415</th>\n",
       "      <td>FOODS_3_823_WI_3_evaluation</td>\n",
       "      <td>F28</td>\n",
       "      <td>0.219031</td>\n",
       "    </tr>\n",
       "    <tr>\n",
       "      <th>1768416</th>\n",
       "      <td>FOODS_3_824_WI_3_evaluation</td>\n",
       "      <td>F28</td>\n",
       "      <td>0.186576</td>\n",
       "    </tr>\n",
       "    <tr>\n",
       "      <th>1768417</th>\n",
       "      <td>FOODS_3_825_WI_3_evaluation</td>\n",
       "      <td>F28</td>\n",
       "      <td>0.373213</td>\n",
       "    </tr>\n",
       "    <tr>\n",
       "      <th>1768418</th>\n",
       "      <td>FOODS_3_826_WI_3_evaluation</td>\n",
       "      <td>F28</td>\n",
       "      <td>0.293054</td>\n",
       "    </tr>\n",
       "    <tr>\n",
       "      <th>1768419</th>\n",
       "      <td>FOODS_3_827_WI_3_evaluation</td>\n",
       "      <td>F28</td>\n",
       "      <td>0.376235</td>\n",
       "    </tr>\n",
       "  </tbody>\n",
       "</table>\n",
       "<p>1768420 rows × 3 columns</p>\n",
       "</div>"
      ],
      "text/plain": [
       "                                    id           F      sold\n",
       "0        HOBBIES_1_001_CA_1_validation  Unnamed: 0  0.000000\n",
       "1        HOBBIES_1_002_CA_1_validation  Unnamed: 0  1.000000\n",
       "2        HOBBIES_1_003_CA_1_validation  Unnamed: 0  2.000000\n",
       "3        HOBBIES_1_004_CA_1_validation  Unnamed: 0  3.000000\n",
       "4        HOBBIES_1_005_CA_1_validation  Unnamed: 0  4.000000\n",
       "...                                ...         ...       ...\n",
       "1768415    FOODS_3_823_WI_3_evaluation         F28  0.219031\n",
       "1768416    FOODS_3_824_WI_3_evaluation         F28  0.186576\n",
       "1768417    FOODS_3_825_WI_3_evaluation         F28  0.373213\n",
       "1768418    FOODS_3_826_WI_3_evaluation         F28  0.293054\n",
       "1768419    FOODS_3_827_WI_3_evaluation         F28  0.376235\n",
       "\n",
       "[1768420 rows x 3 columns]"
      ]
     },
     "execution_count": 21,
     "metadata": {},
     "output_type": "execute_result"
    }
   ],
   "source": []
  },
  {
   "cell_type": "code",
   "execution_count": 9,
   "metadata": {},
   "outputs": [],
   "source": [
    "import joblib\n",
    "from sklearn.ensemble import RandomForestRegressor\n",
    "from sklearn.metrics import mean_squared_error\n",
    "import numpy as np\n",
    "import pandas as pd"
   ]
  },
  {
   "cell_type": "code",
   "execution_count": 3,
   "metadata": {},
   "outputs": [],
   "source": [
    "loaded_model = joblib.load('model_store_RF_0.pkl')"
   ]
  },
  {
   "cell_type": "code",
   "execution_count": 10,
   "metadata": {},
   "outputs": [],
   "source": [
    "data=pd.read_pickle('data.pkl')\n",
    "valid=data[(data['d']>=1914)&(data['d']<1942)][['id','d','sold']]\n",
    "test=data[data['d']>=1942][['id','d','sold']]"
   ]
  },
  {
   "cell_type": "code",
   "execution_count": 5,
   "metadata": {},
   "outputs": [],
   "source": [
    "df= data[data['store_id']==0]\n",
    "X_train,y_train=df[df['d']<1914].drop('sold',axis=1),df[df['d']<1914]['sold']\n",
    "X_valid,y_valid=df[(df['d']>=1914)&(df['d']<1942)].drop('sold',axis=1),df[(df['d']>=1914)&(df['d']<1942)]['sold']"
   ]
  },
  {
   "cell_type": "code",
   "execution_count": 12,
   "metadata": {},
   "outputs": [],
   "source": [
    "result = loaded_model.predict(X_valid)\n",
    "\n",
    "residaul_std=np.std(result- y_valid)\n",
    "residaul_mean=np.mean(result- y_valid)\n"
   ]
  },
  {
   "cell_type": "code",
   "execution_count": 13,
   "metadata": {},
   "outputs": [
    {
     "data": {
      "image/png": "[encoded data removed]",
      "text/plain": [
       "<Figure size 640x480 with 1 Axes>"
      ]
     },
     "metadata": {},
     "output_type": "display_data"
    }
   ],
   "source": [
    "plt.hist(result- y_valid,bins=500)\n",
    "plt.xlim(-10,10)\n",
    "plt.xlabel('residual of predice vs valid')\n",
    "plt.ylabel('number')\n",
    "plt.savefig('Residaul_hist_RF.png')"
   ]
  },
  {
   "cell_type": "code",
   "execution_count": 14,
   "metadata": {},
   "outputs": [
    {
     "name": "stdout",
     "output_type": "stream",
     "text": [
      "2.0445384545515526 -0.02816871205513184\n"
     ]
    }
   ],
   "source": [
    "print (residaul_std,residaul_mean)"
   ]
  },
  {
   "cell_type": "code",
   "execution_count": 15,
   "metadata": {},
   "outputs": [],
   "source": [
    "loaded_model = joblib.load('model_store_LGBM_0.pkl')"
   ]
  },
  {
   "cell_type": "code",
   "execution_count": 16,
   "metadata": {},
   "outputs": [],
   "source": [
    "result = loaded_model.predict(X_valid)\n",
    "\n",
    "residaul_std=np.std(result- y_valid)\n",
    "residaul_mean=np.mean(result- y_valid)"
   ]
  },
  {
   "cell_type": "code",
   "execution_count": 17,
   "metadata": {},
   "outputs": [
    {
     "data": {
      "image/png": "[encoded data removed]",
      "text/plain": [
       "<Figure size 640x480 with 1 Axes>"
      ]
     },
     "metadata": {},
     "output_type": "display_data"
    }
   ],
   "source": [
    "plt.hist(result- y_valid,bins=500)\n",
    "plt.xlim(-10,10)\n",
    "plt.xlabel('residual of predice vs valid')\n",
    "plt.ylabel('number')\n",
    "plt.savefig('Residaul_hist_LGBM.png')"
   ]
  },
  {
   "cell_type": "code",
   "execution_count": 18,
   "metadata": {},
   "outputs": [
    {
     "name": "stdout",
     "output_type": "stream",
     "text": [
      "2.0445384545515526 -0.02816871205513184\n"
     ]
    }
   ],
   "source": [
    "print (residaul_std,residaul_mean)"
   ]
  },
  {
   "cell_type": "code",
   "execution_count": 19,
   "metadata": {},
   "outputs": [],
   "source": [
    "loaded_model = joblib.load('model_store_XGB_0.pkl')"
   ]
  },
  {
   "cell_type": "code",
   "execution_count": 21,
   "metadata": {},
   "outputs": [],
   "source": [
    "result = loaded_model.predict(X_valid)\n",
    "\n",
    "residaul_std=np.std(result- y_valid)\n",
    "residaul_mean=np.mean(result- y_valid)"
   ]
  },
  {
   "cell_type": "code",
   "execution_count": 22,
   "metadata": {},
   "outputs": [
    {
     "data": {
      "image/png": "[encoded data removed]",
      "text/plain": [
       "<Figure size 640x480 with 1 Axes>"
      ]
     },
     "metadata": {},
     "output_type": "display_data"
    }
   ],
   "source": [
    "plt.hist(result- y_valid,bins=500)\n",
    "plt.xlim(-10,10)\n",
    "plt.xlabel('residual of predice vs valid')\n",
    "plt.ylabel('number')\n",
    "plt.savefig('Residaul_hist_LGBM.png')"
   ]
  },
  {
   "cell_type": "code",
   "execution_count": 23,
   "metadata": {},
   "outputs": [
    {
     "name": "stdout",
     "output_type": "stream",
     "text": [
      "2.0546267 -0.0668827\n"
     ]
    }
   ],
   "source": [
    "print (residaul_std,residaul_mean)"
   ]
  },
  {
   "cell_type": "code",
   "execution_count": 17,
   "metadata": {},
   "outputs": [
    {
     "name": "stdout",
     "output_type": "stream",
     "text": [
      "1.971815134420862\n"
     ]
    }
   ],
   "source": [
    "residaul_sum_list=[]\n",
    "for i in range(10):\n",
    "    df= data[data['store_id']==i]\n",
    "    X_valid,y_valid=df[(df['d']>=1914)&(df['d']<1942)].drop('sold',axis=1),df[(df['d']>=1914)&(df['d']<1942)]['sold']\n",
    "    modlename=f'model_store_XGB_{i}.pkl'\n",
    "    loaded_model = joblib.load(modlename)\n",
    "    result = loaded_model.predict(X_valid)\n",
    "    residaul_sum=(result- y_valid)**2\n",
    "    #print (residaul_std,residaul_mean)\n",
    "    residaul_sum_list.append(residaul_sum)\n",
    "\n",
    "rmse=(np.sum(residaul_sum_list)/(28*30490))**0.5\n",
    "print (rmse)"
   ]
  },
  {
   "cell_type": "code",
   "execution_count": 18,
   "metadata": {},
   "outputs": [
    {
     "name": "stdout",
     "output_type": "stream",
     "text": [
      "2.014855370165439\n"
     ]
    }
   ],
   "source": [
    "residaul_sum_list=[]\n",
    "for i in range(10):\n",
    "    df= data[data['store_id']==i]\n",
    "    X_valid,y_valid=df[(df['d']>=1914)&(df['d']<1942)].drop('sold',axis=1),df[(df['d']>=1914)&(df['d']<1942)]['sold']\n",
    "    modlename=f'model_store_RF_{i}.pkl'\n",
    "    loaded_model = joblib.load(modlename)\n",
    "    result = loaded_model.predict(X_valid)\n",
    "    residaul_sum=(result- y_valid)**2\n",
    "    #print (residaul_std,residaul_mean)\n",
    "    residaul_sum_list.append(residaul_sum)\n",
    "\n",
    "rmse=(np.sum(residaul_sum_list)/(28*30490))**0.5\n",
    "print (rmse)"
   ]
  },
  {
   "cell_type": "code",
   "execution_count": 20,
   "metadata": {},
   "outputs": [
    {
     "name": "stdout",
     "output_type": "stream",
     "text": [
      "1.9668697138790838\n"
     ]
    }
   ],
   "source": [
    "residaul_sum_list=[]\n",
    "for i in range(10):\n",
    "    df= data[data['store_id']==i]\n",
    "    X_valid,y_valid=df[(df['d']>=1914)&(df['d']<1942)].drop('sold',axis=1),df[(df['d']>=1914)&(df['d']<1942)]['sold']\n",
    "    modlename=f'model_store_LGBM_{i}.pkl'\n",
    "    loaded_model = joblib.load(modlename)\n",
    "    result = loaded_model.predict(X_valid)\n",
    "    residaul_sum=(result- y_valid)**2\n",
    "    #print (residaul_std,residaul_mean)\n",
    "    residaul_sum_list.append(residaul_sum)\n",
    "\n",
    "rmse=(np.sum(residaul_sum_list)/(28*30490))**0.5\n",
    "print (rmse)"
   ]
  }
 ],
 "metadata": {
  "kernelspec": {
   "display_name": "Python 3",
   "language": "python",
   "name": "python3"
  },
  "language_info": {
   "codemirror_mode": {
    "name": "ipython",
    "version": 3
   },
   "file_extension": ".py",
   "mimetype": "text/x-python",
   "name": "python",
   "nbconvert_exporter": "python",
   "pygments_lexer": "ipython3",
   "version": "3.10.11"
  },
  "orig_nbformat": 4
 },
 "nbformat": 4,
 "nbformat_minor": 2
}
