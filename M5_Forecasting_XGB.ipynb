{
 "cells": [
  {
   "cell_type": "code",
   "execution_count": 15,
   "metadata": {},
   "outputs": [],
   "source": [
    "import numpy as np\n",
    "import pandas as pd\n",
    "import matplotlib.pyplot as plt\n",
    "import gc\n",
    "import warnings\n",
    "warnings.filterwarnings('ignore')\n",
    "import xgboost as xgb\n",
    "from xgboost import plot_importance, plot_tree\n",
    "from sklearn.metrics import mean_squared_error\n",
    "import joblib\n"
   ]
  },
  {
   "cell_type": "code",
   "execution_count": 3,
   "metadata": {},
   "outputs": [],
   "source": [
    "data=pd.read_pickle('data.pkl')\n",
    "valid=data[(data['d']>=1914)&(data['d']<1942)][['id','d','sold']]\n",
    "test=data[data['d']>=1942][['id','d','sold']]"
   ]
  },
  {
   "cell_type": "code",
   "execution_count": 8,
   "metadata": {},
   "outputs": [],
   "source": [
    "def XGB_model(X_train,y_train,X_valid,y_valid,N_e):\n",
    "    model = xgb.XGBRegressor(\n",
    "        learning_rate=0.01,\n",
    "        n_estimators=N_e,\n",
    "        min_child_weight=0,\n",
    "        max_depth=8,\n",
    "        random_state=18)\n",
    "    model.fit(X_train,y_train)\n",
    "    y_pred = model.predict(X_valid)\n",
    "    mse = mean_squared_error(y_valid, y_pred)\n",
    "    print (\"RMSE:\",mse**(1/2))\n",
    "\n",
    "    return model"
   ]
  },
  {
   "cell_type": "code",
   "execution_count": 9,
   "metadata": {},
   "outputs": [
    {
     "name": "stdout",
     "output_type": "stream",
     "text": [
      "50\n",
      "RMSE: 2.8140203816991383\n",
      "100\n",
      "RMSE: 2.3746051460099187\n",
      "150\n",
      "RMSE: 2.1846125483107004\n",
      "200\n",
      "RMSE: 2.1069099999584235\n",
      "250\n",
      "RMSE: 2.075470225356546\n",
      "300\n",
      "RMSE: 2.0623453255656106\n",
      "350\n",
      "RMSE: 2.055715093636181\n",
      "400\n",
      "RMSE: 2.051990435929346\n"
     ]
    }
   ],
   "source": []
  },
  {
   "cell_type": "code",
   "execution_count": null,
   "metadata": {},
   "outputs": [],
   "source": [
    "N_e_list=[50,100,150,200,250,300,350,400]\n",
    "\n",
    "\n",
    "df= data[data['store_id']==0]\n",
    "X_train,y_train=df[df['d']<1914].drop('sold',axis=1),df[df['d']<1914]['sold']\n",
    "X_valid,y_valid=df[(df['d']>=1914)&(df['d']<1942)].drop('sold',axis=1),df[(df['d']>=1914)&(df['d']<1942)]['sold']\n",
    "\n",
    "for N_e in N_e_list:\n",
    "    print (N_e)\n",
    "    model= XGB_model(X_train,y_train,X_valid,y_valid,N_e)\n",
    "    del model\n",
    "    gc.collect()"
   ]
  },
  {
   "cell_type": "code",
   "execution_count": 10,
   "metadata": {},
   "outputs": [
    {
     "data": {
      "image/png": "[encoded data removed]",
      "text/plain": [
       "<Figure size 640x480 with 1 Axes>"
      ]
     },
     "metadata": {},
     "output_type": "display_data"
    }
   ],
   "source": [
    "rmse_list= [2.814,2.374,2.184,2.106,2.075,2.062,2.055,2.051]\n",
    "plt.plot(N_e_list,rmse_list,'r.')\n",
    "plt.xlabel('N_estimators')\n",
    "plt.ylabel('rmse')\n",
    "plt.savefig('N_e_test.png')"
   ]
  },
  {
   "cell_type": "code",
   "execution_count": 11,
   "metadata": {},
   "outputs": [],
   "source": [
    "cal=pd.read_csv('./data/calendar.csv')\n",
    "sales_train_evaluation=pd.read_csv('data/sales_train_evaluation.csv')"
   ]
  },
  {
   "cell_type": "code",
   "execution_count": 12,
   "metadata": {},
   "outputs": [],
   "source": [
    "def downcase(df):  \n",
    "    cols = df.dtypes.index.tolist()\n",
    "    types = df.dtypes.values.tolist()\n",
    "    for i,t in enumerate(types):\n",
    "        if 'int' in str(t):\n",
    "            if df[cols[i]].min() > np.iinfo(np.int8).min and df[cols[i]].max() < np.iinfo(np.int8).max:\n",
    "                df[cols[i]] = df[cols[i]].astype(np.int8)\n",
    "            elif df[cols[i]].min() > np.iinfo(np.int16).min and df[cols[i]].max() < np.iinfo(np.int16).max:\n",
    "                df[cols[i]] = df[cols[i]].astype(np.int16)\n",
    "            elif df[cols[i]].min() > np.iinfo(np.int32).min and df[cols[i]].max() < np.iinfo(np.int32).max:\n",
    "                df[cols[i]] = df[cols[i]].astype(np.int32)\n",
    "            else:\n",
    "                df[cols[i]] = df[cols[i]].astype(np.int64)\n",
    "        elif 'float' in str(t):\n",
    "            if df[cols[i]].min() > np.finfo(np.float16).min and df[cols[i]].max() < np.finfo(np.float16).max:\n",
    "                df[cols[i]] = df[cols[i]].astype(np.float16)\n",
    "            elif df[cols[i]].min() > np.finfo(np.float32).min and df[cols[i]].max() < np.finfo(np.float32).max:\n",
    "                df[cols[i]] = df[cols[i]].astype(np.float32)\n",
    "            else:\n",
    "                df[cols[i]] = df[cols[i]].astype(np.float64)\n",
    "        elif t == np.object:\n",
    "            if cols[i] == 'date':\n",
    "                df[cols[i]] = pd.to_datetime(df[cols[i]], format='%Y-%m-%d')\n",
    "            else:\n",
    "                df[cols[i]] = df[cols[i]].astype('category')\n",
    "    return df"
   ]
  },
  {
   "cell_type": "code",
   "execution_count": 13,
   "metadata": {},
   "outputs": [
    {
     "data": {
      "text/plain": [
       "<function gc.collect(generation=2)>"
      ]
     },
     "execution_count": 13,
     "metadata": {},
     "output_type": "execute_result"
    }
   ],
   "source": [
    "cal=downcase(cal)\n",
    "sales_train_evaluation=downcase(sales_train_evaluation)\n",
    "catalog_all=pd.melt(sales_train_evaluation,id_vars=['id','item_id','dept_id','cat_id','store_id','state_id'],var_name='d',value_name='sold')\n",
    "catalog_all=pd.merge(catalog_all,cal,on='d',how='left')\n",
    "d_id=dict(zip(catalog_all['id'].cat.codes,catalog_all['id']))\n",
    "del cal,sales_train_evaluation\n",
    "gc.collect"
   ]
  },
  {
   "cell_type": "code",
   "execution_count": 16,
   "metadata": {},
   "outputs": [
    {
     "name": "stdout",
     "output_type": "stream",
     "text": [
      "-----Train model for store 0------\n",
      "RMSE: 2.055715093636181\n",
      "-----predicting for store 0------\n",
      "----------store model---------------\n",
      "-----Train model for store 1------\n",
      "RMSE: 1.9425456274656117\n",
      "-----predicting for store 1------\n",
      "----------store model---------------\n",
      "-----Train model for store 2------\n",
      "RMSE: 2.405333406333471\n",
      "-----predicting for store 2------\n",
      "----------store model---------------\n",
      "-----Train model for store 3------\n",
      "RMSE: 1.413153635550637\n",
      "-----predicting for store 3------\n",
      "----------store model---------------\n",
      "-----Train model for store 4------\n",
      "RMSE: 1.6342987159446196\n",
      "-----predicting for store 4------\n",
      "----------store model---------------\n",
      "-----Train model for store 5------\n",
      "RMSE: 1.8146362212306415\n",
      "-----predicting for store 5------\n",
      "----------store model---------------\n",
      "-----Train model for store 6------\n",
      "RMSE: 1.8631379334296145\n",
      "-----predicting for store 6------\n",
      "----------store model---------------\n",
      "-----Train model for store 7------\n",
      "RMSE: 1.6378883425484931\n",
      "-----predicting for store 7------\n",
      "----------store model---------------\n",
      "-----Train model for store 8------\n",
      "RMSE: 2.6568643196158703\n",
      "-----predicting for store 8------\n",
      "----------store model---------------\n",
      "-----Train model for store 9------\n",
      "RMSE: 1.9803384290324741\n",
      "-----predicting for store 9------\n",
      "----------store model---------------\n"
     ]
    }
   ],
   "source": [
    "for i in range(10):\n",
    "    df= data[data['store_id']==i]\n",
    "    X_train,y_train=df[df['d']<1914].drop('sold',axis=1),df[df['d']<1914]['sold']\n",
    "    X_valid,y_valid=df[(df['d']>=1914)&(df['d']<1942)].drop('sold',axis=1),df[(df['d']>=1914)&(df['d']<1942)]['sold']\n",
    "    X_test= df[df['d']>=1942].drop('sold',axis=1)\n",
    "    print (f'-----Train model for store {i}------')\n",
    "    model= XGB_model(X_train,y_train,X_valid,y_valid,350)\n",
    "    \n",
    "    print (f'-----predicting for store {i}------')\n",
    "    pred_val= model.predict(X_valid)\n",
    "    valid.loc[X_valid.index,'sold']=pred_val\n",
    "    pred_eva=model.predict(X_test) \n",
    "    test.loc[X_test.index,'sold']= pred_eva\n",
    "    print ('----------store model---------------')\n",
    "    filename=f'model_store_XGB_{i}.pkl'\n",
    "    joblib.dump(model,filename)\n",
    "    del model,X_train,y_train,X_valid,y_valid,X_test\n",
    "    gc.collect()"
   ]
  },
  {
   "cell_type": "code",
   "execution_count": 17,
   "metadata": {},
   "outputs": [],
   "source": [
    "sample_sub=pd.read_csv('data/sample_submission.csv')"
   ]
  },
  {
   "cell_type": "code",
   "execution_count": 18,
   "metadata": {},
   "outputs": [],
   "source": [
    "sample_sub = sample_sub[['id']]\n",
    "f_col= [f'F{i}' for i in range(1,29)]\n",
    "f_col.insert(0,'id')\n",
    "\n",
    "valid['id']=valid['id'].map(d_id)\n",
    "valid=valid.pivot(index='id',columns='d',values='sold').reset_index()\n",
    "valid['id']=valid['id'].str.replace(\"evaluation\",\"validation\")\n",
    "out_val=pd.merge(left=sample_sub[:30490],right=valid,on='id')\n",
    "out_val.columns=f_col\n",
    "\n",
    "test['id'] = test['id'].map(d_id)\n",
    "test = test.pivot(index='id',columns='d',values='sold').reset_index()\n",
    "out_eva=pd.merge(left=sample_sub[30490:],right=test,on='id')\n",
    "out_eva.columns=f_col\n",
    "\n",
    "submit= pd.concat([out_val,out_eva],ignore_index=True)"
   ]
  },
  {
   "cell_type": "code",
   "execution_count": 19,
   "metadata": {},
   "outputs": [],
   "source": [
    "submit.to_csv('submission_XGB.csv')"
   ]
  }
 ],
 "metadata": {
  "kernelspec": {
   "display_name": "Python 3",
   "language": "python",
   "name": "python3"
  },
  "language_info": {
   "codemirror_mode": {
    "name": "ipython",
    "version": 3
   },
   "file_extension": ".py",
   "mimetype": "text/x-python",
   "name": "python",
   "nbconvert_exporter": "python",
   "pygments_lexer": "ipython3",
   "version": "3.10.11"
  },
  "orig_nbformat": 4
 },
 "nbformat": 4,
 "nbformat_minor": 2
}
