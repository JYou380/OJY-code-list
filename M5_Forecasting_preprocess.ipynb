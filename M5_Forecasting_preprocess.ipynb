{
 "cells": [
  {
   "cell_type": "code",
   "execution_count": 1,
   "metadata": {},
   "outputs": [],
   "source": [
    "import numpy as np\n",
    "import pandas as pd\n",
    "import matplotlib.pyplot as plt\n",
    "import gc\n",
    "import warnings\n",
    "warnings.filterwarnings('ignore')\n",
    "\n",
    "\n",
    "#The code was referent by THIEN1504 kaggle website https://www.kaggle.com/code/thien1504/m5-simple-fast-model"
   ]
  },
  {
   "cell_type": "code",
   "execution_count": 2,
   "metadata": {},
   "outputs": [],
   "source": [
    "cal=pd.read_csv('./data/calendar.csv')\n",
    "sales_train_evaluation=pd.read_csv('data/sales_train_evaluation.csv')\n",
    "sell_prices=pd.read_csv('data/sell_prices.csv')\n"
   ]
  },
  {
   "cell_type": "code",
   "execution_count": 3,
   "metadata": {},
   "outputs": [],
   "source": [
    "for d in range(1942,1970):    \n",
    "    col='d_'+str(d)\n",
    "    sales_train_evaluation[col]=0\n",
    "    sales_train_evaluation[col]=sales_train_evaluation[col].astype(np.int16)\n"
   ]
  },
  {
   "cell_type": "code",
   "execution_count": 4,
   "metadata": {},
   "outputs": [],
   "source": [
    "def downcase(df):  \n",
    "    cols = df.dtypes.index.tolist()\n",
    "    types = df.dtypes.values.tolist()\n",
    "    for i,t in enumerate(types):\n",
    "        if 'int' in str(t):\n",
    "            if df[cols[i]].min() > np.iinfo(np.int8).min and df[cols[i]].max() < np.iinfo(np.int8).max:\n",
    "                df[cols[i]] = df[cols[i]].astype(np.int8)\n",
    "            elif df[cols[i]].min() > np.iinfo(np.int16).min and df[cols[i]].max() < np.iinfo(np.int16).max:\n",
    "                df[cols[i]] = df[cols[i]].astype(np.int16)\n",
    "            elif df[cols[i]].min() > np.iinfo(np.int32).min and df[cols[i]].max() < np.iinfo(np.int32).max:\n",
    "                df[cols[i]] = df[cols[i]].astype(np.int32)\n",
    "            else:\n",
    "                df[cols[i]] = df[cols[i]].astype(np.int64)\n",
    "        elif 'float' in str(t):\n",
    "            if df[cols[i]].min() > np.finfo(np.float16).min and df[cols[i]].max() < np.finfo(np.float16).max:\n",
    "                df[cols[i]] = df[cols[i]].astype(np.float16)\n",
    "            elif df[cols[i]].min() > np.finfo(np.float32).min and df[cols[i]].max() < np.finfo(np.float32).max:\n",
    "                df[cols[i]] = df[cols[i]].astype(np.float32)\n",
    "            else:\n",
    "                df[cols[i]] = df[cols[i]].astype(np.float64)\n",
    "        elif t == np.object:\n",
    "            if cols[i] == 'date':\n",
    "                df[cols[i]] = pd.to_datetime(df[cols[i]], format='%Y-%m-%d')\n",
    "            else:\n",
    "                df[cols[i]] = df[cols[i]].astype('category')\n",
    "    return df"
   ]
  },
  {
   "cell_type": "code",
   "execution_count": 5,
   "metadata": {},
   "outputs": [],
   "source": [
    "##Downcase data\n",
    "\n",
    "cal=downcase(cal)\n",
    "sales_train_evaluation=downcase(sales_train_evaluation)\n",
    "sell_prices=downcase(sell_prices)\n",
    "\n"
   ]
  },
  {
   "cell_type": "code",
   "execution_count": 6,
   "metadata": {},
   "outputs": [],
   "source": [
    "catalog_all=pd.melt(sales_train_evaluation,id_vars=['id','item_id','dept_id','cat_id','store_id','state_id'],var_name='d',value_name='sold')\n",
    "catalog_all=pd.merge(catalog_all,cal,on='d',how='left')\n",
    "catalog_all=pd.merge(catalog_all,sell_prices,on=['store_id','item_id','wm_yr_wk'],how='left')\n"
   ]
  },
  {
   "cell_type": "code",
   "execution_count": 7,
   "metadata": {},
   "outputs": [
    {
     "data": {
      "text/plain": [
       "<function gc.collect(generation=2)>"
      ]
     },
     "execution_count": 7,
     "metadata": {},
     "output_type": "execute_result"
    }
   ],
   "source": [
    "del cal,sell_prices,sales_train_evaluation\n",
    "gc.collect"
   ]
  },
  {
   "cell_type": "code",
   "execution_count": 8,
   "metadata": {},
   "outputs": [],
   "source": [
    "catalog_all['sell_price']=catalog_all['sell_price'].fillna(catalog_all.groupby('id')['sell_price'].transform('median'))\n"
   ]
  },
  {
   "cell_type": "code",
   "execution_count": 9,
   "metadata": {},
   "outputs": [],
   "source": [
    "d_id=dict(zip(catalog_all['id'].cat.codes,catalog_all['id']))\n",
    "catalog_all['id']=catalog_all['id'].cat.codes\n",
    "catalog_all['item_id']=catalog_all['item_id'].cat.codes\n",
    "catalog_all['dept_id']=catalog_all['dept_id'].cat.codes\n",
    "catalog_all['cat_id']=catalog_all['cat_id'].cat.codes\n",
    "catalog_all['store_id']=catalog_all['store_id'].cat.codes\n",
    "catalog_all['state_id']=catalog_all['state_id'].cat.codes\n",
    "catalog_all['event_name_1']=catalog_all['event_name_1'].cat.codes\n",
    "catalog_all['event_type_1']=catalog_all['event_type_1'].cat.codes"
   ]
  },
  {
   "cell_type": "code",
   "execution_count": 10,
   "metadata": {},
   "outputs": [],
   "source": [
    "catalog_all['d']=catalog_all['d'].str[2:].astype(np.int16)\n",
    "\n",
    "catalog_all=catalog_all.drop(['date','wm_yr_wk','event_name_2','event_type_2','weekday'],axis=1)"
   ]
  },
  {
   "cell_type": "code",
   "execution_count": 11,
   "metadata": {},
   "outputs": [],
   "source": [
    "catalog_all['state_mean_sold']=catalog_all.groupby('state_id')['sold'].transform(\"mean\").astype(np.float16)\n",
    "catalog_all['store_mean_sold']=catalog_all.groupby('store_id')['sold'].transform(\"mean\").astype(np.float16)\n",
    "catalog_all['cat_mean_sold']=catalog_all.groupby('cat_id')['sold'].transform(\"mean\").astype(np.float16)\n",
    "catalog_all['dept_mean_sold']=catalog_all.groupby('dept_id')['sold'].transform(\"mean\").astype(np.float16)\n",
    "catalog_all['state_cat_mean_sold']=catalog_all.groupby(['state_id','cat_id'])['sold'].transform(\"mean\").astype(np.float16)\n",
    "catalog_all['state_dept_mean_sold']=catalog_all.groupby(['state_id','dept_id'])['sold'].transform(\"mean\").astype(np.float16)\n",
    "catalog_all['store_cat_mean_sold']=catalog_all.groupby(['store_id','cat_id'])['sold'].transform(\"mean\").astype(np.float16)\n",
    "catalog_all['cat_dept_mean_sold']=catalog_all.groupby(['dept_id','cat_id'])['sold'].transform(\"mean\").astype(np.float16)\n",
    "catalog_all['item_sold']=catalog_all.groupby('item_id')['sold'].transform(\"mean\").astype(np.float16)\n",
    "catalog_all['item_state_sold']=catalog_all.groupby(['item_id','state_id'])['sold'].transform(\"mean\").astype(np.float16)\n",
    "catalog_all['item_store_sold']=catalog_all.groupby(['item_id','store_id'])['sold'].transform(\"mean\").astype(np.float16)\n",
    "catalog_all['item_store_wday_sold']=catalog_all.groupby(['item_id','store_id','wday'])['sold'].transform(\"mean\").astype(np.float16)"
   ]
  },
  {
   "cell_type": "code",
   "execution_count": 12,
   "metadata": {},
   "outputs": [],
   "source": [
    "#time lag sold\n",
    "lags=[1,2,6,7,12,14,30]\n",
    "for lag in lags:\n",
    "    catalog_all['sold_lag_'+str(lag)]= catalog_all.groupby(['id','item_id','dept_id','cat_id','store_id','state_id'],as_index=False)['sold'].shift(lag).astype(np.float16)"
   ]
  },
  {
   "cell_type": "code",
   "execution_count": 13,
   "metadata": {},
   "outputs": [],
   "source": [
    "catalog_all=catalog_all[ catalog_all['d'] > np.max(lags)]"
   ]
  },
  {
   "cell_type": "code",
   "execution_count": 14,
   "metadata": {},
   "outputs": [],
   "source": [
    "catalog_all.to_pickle('data.pkl')"
   ]
  }
 ],
 "metadata": {
  "kernelspec": {
   "display_name": "Python 3",
   "language": "python",
   "name": "python3"
  },
  "language_info": {
   "codemirror_mode": {
    "name": "ipython",
    "version": 3
   },
   "file_extension": ".py",
   "mimetype": "text/x-python",
   "name": "python",
   "nbconvert_exporter": "python",
   "pygments_lexer": "ipython3",
   "version": "3.10.11"
  },
  "orig_nbformat": 4
 },
 "nbformat": 4,
 "nbformat_minor": 2
}
