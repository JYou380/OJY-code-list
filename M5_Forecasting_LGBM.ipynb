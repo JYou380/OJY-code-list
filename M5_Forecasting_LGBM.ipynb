{
 "cells": [
  {
   "cell_type": "code",
   "execution_count": 1,
   "metadata": {},
   "outputs": [],
   "source": [
    "import numpy as np\n",
    "import pandas as pd\n",
    "import matplotlib.pyplot as plt\n",
    "import gc\n",
    "import warnings\n",
    "warnings.filterwarnings('ignore')\n",
    "import joblib\n",
    "from lightgbm import LGBMRegressor\n",
    "\n",
    "#The code was referent by THIEN1504 kaggle website https://www.kaggle.com/code/thien1504/m5-simple-fast-model"
   ]
  },
  {
   "cell_type": "code",
   "execution_count": 2,
   "metadata": {},
   "outputs": [],
   "source": [
    "data=pd.read_pickle('data.pkl')\n",
    "valid=data[(data['d']>=1914)&(data['d']<1942)][['id','d','sold']]\n",
    "test=data[data['d']>=1942][['id','d','sold']]"
   ]
  },
  {
   "cell_type": "code",
   "execution_count": 9,
   "metadata": {},
   "outputs": [],
   "source": [
    "def lightgbm_model(X_train,y_train,X_valid,y_valid,N_e):\n",
    "    model = LGBMRegressor(\n",
    "        n_estimators=N_e,\n",
    "        learning_rate=0.3,\n",
    "        subsample=0.8,\n",
    "        colsample_bytree=0.8,\n",
    "        max_depth=8,\n",
    "        num_leaves=224,\n",
    "        )\n",
    "    model.fit(X_train,y_train,eval_set=[(X_train,y_train),(X_valid,y_valid)],verbose=20,\n",
    "              early_stopping_rounds=20,eval_metric='rmse')\n",
    "    return model"
   ]
  },
  {
   "cell_type": "code",
   "execution_count": 4,
   "metadata": {},
   "outputs": [
    {
     "name": "stdout",
     "output_type": "stream",
     "text": [
      "50\n",
      "[LightGBM] [Warning] Unknown parameter: min_child_wright\n",
      "[20]\ttraining's rmse: 2.07691\ttraining's l2: 4.31355\tvalid_1's rmse: 2.05543\tvalid_1's l2: 4.22479\n",
      "[40]\ttraining's rmse: 2.03671\ttraining's l2: 4.14819\tvalid_1's rmse: 2.05072\tvalid_1's l2: 4.20545\n",
      "100\n",
      "[20]\ttraining's rmse: 2.07691\ttraining's l2: 4.31355\tvalid_1's rmse: 2.05543\tvalid_1's l2: 4.22479\n",
      "[40]\ttraining's rmse: 2.03671\ttraining's l2: 4.14819\tvalid_1's rmse: 2.05072\tvalid_1's l2: 4.20545\n",
      "[60]\ttraining's rmse: 2.0051\ttraining's l2: 4.02042\tvalid_1's rmse: 2.04763\tvalid_1's l2: 4.19279\n",
      "150\n",
      "[20]\ttraining's rmse: 2.07691\ttraining's l2: 4.31355\tvalid_1's rmse: 2.05543\tvalid_1's l2: 4.22479\n",
      "[40]\ttraining's rmse: 2.03671\ttraining's l2: 4.14819\tvalid_1's rmse: 2.05072\tvalid_1's l2: 4.20545\n",
      "[60]\ttraining's rmse: 2.0051\ttraining's l2: 4.02042\tvalid_1's rmse: 2.04763\tvalid_1's l2: 4.19279\n",
      "200\n",
      "[20]\ttraining's rmse: 2.07691\ttraining's l2: 4.31355\tvalid_1's rmse: 2.05543\tvalid_1's l2: 4.22479\n",
      "[40]\ttraining's rmse: 2.03671\ttraining's l2: 4.14819\tvalid_1's rmse: 2.05072\tvalid_1's l2: 4.20545\n",
      "[60]\ttraining's rmse: 2.0051\ttraining's l2: 4.02042\tvalid_1's rmse: 2.04763\tvalid_1's l2: 4.19279\n",
      "250\n",
      "[20]\ttraining's rmse: 2.07691\ttraining's l2: 4.31355\tvalid_1's rmse: 2.05543\tvalid_1's l2: 4.22479\n",
      "[40]\ttraining's rmse: 2.03671\ttraining's l2: 4.14819\tvalid_1's rmse: 2.05072\tvalid_1's l2: 4.20545\n",
      "[60]\ttraining's rmse: 2.0051\ttraining's l2: 4.02042\tvalid_1's rmse: 2.04763\tvalid_1's l2: 4.19279\n",
      "300\n",
      "[20]\ttraining's rmse: 2.07691\ttraining's l2: 4.31355\tvalid_1's rmse: 2.05543\tvalid_1's l2: 4.22479\n",
      "[40]\ttraining's rmse: 2.03671\ttraining's l2: 4.14819\tvalid_1's rmse: 2.05072\tvalid_1's l2: 4.20545\n",
      "[60]\ttraining's rmse: 2.0051\ttraining's l2: 4.02042\tvalid_1's rmse: 2.04763\tvalid_1's l2: 4.19279\n",
      "350\n",
      "[20]\ttraining's rmse: 2.07691\ttraining's l2: 4.31355\tvalid_1's rmse: 2.05543\tvalid_1's l2: 4.22479\n",
      "[40]\ttraining's rmse: 2.03671\ttraining's l2: 4.14819\tvalid_1's rmse: 2.05072\tvalid_1's l2: 4.20545\n",
      "[60]\ttraining's rmse: 2.0051\ttraining's l2: 4.02042\tvalid_1's rmse: 2.04763\tvalid_1's l2: 4.19279\n",
      "400\n",
      "[20]\ttraining's rmse: 2.07691\ttraining's l2: 4.31355\tvalid_1's rmse: 2.05543\tvalid_1's l2: 4.22479\n",
      "[40]\ttraining's rmse: 2.03671\ttraining's l2: 4.14819\tvalid_1's rmse: 2.05072\tvalid_1's l2: 4.20545\n",
      "[60]\ttraining's rmse: 2.0051\ttraining's l2: 4.02042\tvalid_1's rmse: 2.04763\tvalid_1's l2: 4.19279\n"
     ]
    }
   ],
   "source": [
    "N_e_list=[50,100,150,200,250,300,350,400]\n",
    "\n",
    "\n",
    "df= data[data['store_id']==0]\n",
    "X_train,y_train=df[df['d']<1914].drop('sold',axis=1),df[df['d']<1914]['sold']\n",
    "X_valid,y_valid=df[(df['d']>=1914)&(df['d']<1942)].drop('sold',axis=1),df[(df['d']>=1914)&(df['d']<1942)]['sold']\n",
    "\n",
    "for N_e in N_e_list:\n",
    "    print (N_e)\n",
    "    model= lightgbm_model(X_train,y_train,X_valid,y_valid,N_e)\n",
    "    del model\n",
    "    gc.collect()"
   ]
  },
  {
   "cell_type": "code",
   "execution_count": 5,
   "metadata": {},
   "outputs": [],
   "source": [
    "cal=pd.read_csv('./data/calendar.csv')\n",
    "sales_train_evaluation=pd.read_csv('data/sales_train_evaluation.csv')"
   ]
  },
  {
   "cell_type": "code",
   "execution_count": 6,
   "metadata": {},
   "outputs": [],
   "source": [
    "def downcase(df):  \n",
    "    cols = df.dtypes.index.tolist()\n",
    "    types = df.dtypes.values.tolist()\n",
    "    for i,t in enumerate(types):\n",
    "        if 'int' in str(t):\n",
    "            if df[cols[i]].min() > np.iinfo(np.int8).min and df[cols[i]].max() < np.iinfo(np.int8).max:\n",
    "                df[cols[i]] = df[cols[i]].astype(np.int8)\n",
    "            elif df[cols[i]].min() > np.iinfo(np.int16).min and df[cols[i]].max() < np.iinfo(np.int16).max:\n",
    "                df[cols[i]] = df[cols[i]].astype(np.int16)\n",
    "            elif df[cols[i]].min() > np.iinfo(np.int32).min and df[cols[i]].max() < np.iinfo(np.int32).max:\n",
    "                df[cols[i]] = df[cols[i]].astype(np.int32)\n",
    "            else:\n",
    "                df[cols[i]] = df[cols[i]].astype(np.int64)\n",
    "        elif 'float' in str(t):\n",
    "            if df[cols[i]].min() > np.finfo(np.float16).min and df[cols[i]].max() < np.finfo(np.float16).max:\n",
    "                df[cols[i]] = df[cols[i]].astype(np.float16)\n",
    "            elif df[cols[i]].min() > np.finfo(np.float32).min and df[cols[i]].max() < np.finfo(np.float32).max:\n",
    "                df[cols[i]] = df[cols[i]].astype(np.float32)\n",
    "            else:\n",
    "                df[cols[i]] = df[cols[i]].astype(np.float64)\n",
    "        elif t == np.object:\n",
    "            if cols[i] == 'date':\n",
    "                df[cols[i]] = pd.to_datetime(df[cols[i]], format='%Y-%m-%d')\n",
    "            else:\n",
    "                df[cols[i]] = df[cols[i]].astype('category')\n",
    "    return df"
   ]
  },
  {
   "cell_type": "code",
   "execution_count": 7,
   "metadata": {},
   "outputs": [
    {
     "data": {
      "text/plain": [
       "<function gc.collect(generation=2)>"
      ]
     },
     "execution_count": 7,
     "metadata": {},
     "output_type": "execute_result"
    }
   ],
   "source": [
    "cal=downcase(cal)\n",
    "sales_train_evaluation=downcase(sales_train_evaluation)\n",
    "catalog_all=pd.melt(sales_train_evaluation,id_vars=['id','item_id','dept_id','cat_id','store_id','state_id'],var_name='d',value_name='sold')\n",
    "catalog_all=pd.merge(catalog_all,cal,on='d',how='left')\n",
    "d_id=dict(zip(catalog_all['id'].cat.codes,catalog_all['id']))\n",
    "del cal,sales_train_evaluation\n",
    "gc.collect"
   ]
  },
  {
   "cell_type": "code",
   "execution_count": 8,
   "metadata": {},
   "outputs": [
    {
     "name": "stdout",
     "output_type": "stream",
     "text": [
      "-----Train model for store 0------\n",
      "[20]\ttraining's rmse: 2.07691\ttraining's l2: 4.31355\tvalid_1's rmse: 2.05543\tvalid_1's l2: 4.22479\n",
      "[40]\ttraining's rmse: 2.03671\ttraining's l2: 4.14819\tvalid_1's rmse: 2.05072\tvalid_1's l2: 4.20545\n",
      "[60]\ttraining's rmse: 2.0051\ttraining's l2: 4.02042\tvalid_1's rmse: 2.04763\tvalid_1's l2: 4.19279\n",
      "-----predicting for store 0------\n",
      "----------store model---------------\n",
      "-----Train model for store 1------\n",
      "[LightGBM] [Warning] Unknown parameter: min_child_wright\n",
      "[20]\ttraining's rmse: 1.67564\ttraining's l2: 2.80776\tvalid_1's rmse: 1.93255\tvalid_1's l2: 3.73473\n",
      "[40]\ttraining's rmse: 1.65082\ttraining's l2: 2.72519\tvalid_1's rmse: 1.93148\tvalid_1's l2: 3.73062\n",
      "[60]\ttraining's rmse: 1.63322\ttraining's l2: 2.66741\tvalid_1's rmse: 1.93154\tvalid_1's l2: 3.73085\n",
      "-----predicting for store 1------\n",
      "----------store model---------------\n",
      "-----Train model for store 2------\n",
      "[LightGBM] [Warning] Unknown parameter: min_child_wright\n",
      "[20]\ttraining's rmse: 2.78657\ttraining's l2: 7.76495\tvalid_1's rmse: 2.42142\tvalid_1's l2: 5.86326\n",
      "[40]\ttraining's rmse: 2.71705\ttraining's l2: 7.38238\tvalid_1's rmse: 2.41667\tvalid_1's l2: 5.84029\n",
      "[60]\ttraining's rmse: 2.66986\ttraining's l2: 7.12816\tvalid_1's rmse: 2.41416\tvalid_1's l2: 5.82816\n",
      "[80]\ttraining's rmse: 2.63184\ttraining's l2: 6.9266\tvalid_1's rmse: 2.40678\tvalid_1's l2: 5.79258\n",
      "[100]\ttraining's rmse: 2.59268\ttraining's l2: 6.722\tvalid_1's rmse: 2.40829\tvalid_1's l2: 5.79984\n",
      "[120]\ttraining's rmse: 2.56428\ttraining's l2: 6.57552\tvalid_1's rmse: 2.4049\tvalid_1's l2: 5.78356\n",
      "[140]\ttraining's rmse: 2.53583\ttraining's l2: 6.43045\tvalid_1's rmse: 2.40832\tvalid_1's l2: 5.80002\n",
      "-----predicting for store 2------\n",
      "----------store model---------------\n",
      "-----Train model for store 3------\n",
      "[LightGBM] [Warning] Unknown parameter: min_child_wright\n",
      "[20]\ttraining's rmse: 1.28811\ttraining's l2: 1.65922\tvalid_1's rmse: 1.41556\tvalid_1's l2: 2.0038\n",
      "[40]\ttraining's rmse: 1.27138\ttraining's l2: 1.6164\tvalid_1's rmse: 1.41121\tvalid_1's l2: 1.99151\n",
      "[60]\ttraining's rmse: 1.25931\ttraining's l2: 1.58587\tvalid_1's rmse: 1.41299\tvalid_1's l2: 1.99654\n",
      "-----predicting for store 3------\n",
      "----------store model---------------\n",
      "-----Train model for store 4------\n",
      "[LightGBM] [Warning] Unknown parameter: min_child_wright\n",
      "[20]\ttraining's rmse: 1.75084\ttraining's l2: 3.06544\tvalid_1's rmse: 1.6366\tvalid_1's l2: 2.67845\n",
      "[40]\ttraining's rmse: 1.71875\ttraining's l2: 2.95411\tvalid_1's rmse: 1.63685\tvalid_1's l2: 2.67927\n",
      "-----predicting for store 4------\n",
      "----------store model---------------\n",
      "-----Train model for store 5------\n",
      "[LightGBM] [Warning] Unknown parameter: min_child_wright\n",
      "[20]\ttraining's rmse: 2.05637\ttraining's l2: 4.22864\tvalid_1's rmse: 1.8317\tvalid_1's l2: 3.35511\n",
      "-----predicting for store 5------\n",
      "----------store model---------------\n",
      "-----Train model for store 6------\n",
      "[LightGBM] [Warning] Unknown parameter: min_child_wright\n",
      "[20]\ttraining's rmse: 1.7586\ttraining's l2: 3.09269\tvalid_1's rmse: 1.86288\tvalid_1's l2: 3.47033\n",
      "[40]\ttraining's rmse: 1.7213\ttraining's l2: 2.96288\tvalid_1's rmse: 1.85998\tvalid_1's l2: 3.45951\n",
      "[60]\ttraining's rmse: 1.69341\ttraining's l2: 2.86763\tvalid_1's rmse: 1.86016\tvalid_1's l2: 3.4602\n",
      "-----predicting for store 6------\n",
      "----------store model---------------\n",
      "-----Train model for store 7------\n",
      "[LightGBM] [Warning] Unknown parameter: min_child_wright\n",
      "[20]\ttraining's rmse: 1.42849\ttraining's l2: 2.04058\tvalid_1's rmse: 1.63806\tvalid_1's l2: 2.68325\n",
      "[40]\ttraining's rmse: 1.40577\ttraining's l2: 1.97618\tvalid_1's rmse: 1.63459\tvalid_1's l2: 2.67188\n",
      "[60]\ttraining's rmse: 1.39003\ttraining's l2: 1.93217\tvalid_1's rmse: 1.63418\tvalid_1's l2: 2.67056\n",
      "-----predicting for store 7------\n",
      "----------store model---------------\n",
      "-----Train model for store 8------\n",
      "[LightGBM] [Warning] Unknown parameter: min_child_wright\n",
      "[20]\ttraining's rmse: 2.12313\ttraining's l2: 4.50768\tvalid_1's rmse: 2.66387\tvalid_1's l2: 7.09622\n",
      "-----predicting for store 8------\n",
      "----------store model---------------\n",
      "-----Train model for store 9------\n",
      "[LightGBM] [Warning] Unknown parameter: min_child_wright\n",
      "[20]\ttraining's rmse: 1.88295\ttraining's l2: 3.54552\tvalid_1's rmse: 1.96664\tvalid_1's l2: 3.86768\n",
      "[40]\ttraining's rmse: 1.82799\ttraining's l2: 3.34156\tvalid_1's rmse: 1.96226\tvalid_1's l2: 3.85047\n",
      "-----predicting for store 9------\n",
      "----------store model---------------\n"
     ]
    }
   ],
   "source": [
    "for i in range(10):\n",
    "    df= data[data['store_id']==i]\n",
    "    X_train,y_train=df[df['d']<1914].drop('sold',axis=1),df[df['d']<1914]['sold']\n",
    "    X_valid,y_valid=df[(df['d']>=1914)&(df['d']<1942)].drop('sold',axis=1),df[(df['d']>=1914)&(df['d']<1942)]['sold']\n",
    "    X_test= df[df['d']>=1942].drop('sold',axis=1)\n",
    "    print (f'-----Train model for store {i}------')\n",
    "    model= lightgbm_model(X_train,y_train,X_valid,y_valid,350)\n",
    "    \n",
    "    print (f'-----predicting for store {i}------')\n",
    "    pred_val= model.predict(X_valid)\n",
    "    valid.loc[X_valid.index,'sold']=pred_val\n",
    "    pred_eva=model.predict(X_test) \n",
    "    test.loc[X_test.index,'sold']= pred_eva\n",
    "    print ('----------store model---------------')\n",
    "    filename=f'model_store_LGBM_{i}.pkl'\n",
    "    joblib.dump(model,filename)\n",
    "    del model,X_train,y_train,X_valid,y_valid,X_test\n",
    "    gc.collect()"
   ]
  },
  {
   "cell_type": "code",
   "execution_count": 10,
   "metadata": {},
   "outputs": [],
   "source": [
    "sample_sub=pd.read_csv('data/sample_submission.csv')"
   ]
  },
  {
   "cell_type": "code",
   "execution_count": 11,
   "metadata": {},
   "outputs": [],
   "source": [
    "sample_sub = sample_sub[['id']]\n",
    "f_col= [f'F{i}' for i in range(1,29)]\n",
    "f_col.insert(0,'id')\n",
    "\n",
    "valid['id']=valid['id'].map(d_id)\n",
    "valid=valid.pivot(index='id',columns='d',values='sold').reset_index()\n",
    "valid['id']=valid['id'].str.replace(\"evaluation\",\"validation\")\n",
    "out_val=pd.merge(left=sample_sub[:30490],right=valid,on='id')\n",
    "out_val.columns=f_col\n",
    "\n",
    "test['id'] = test['id'].map(d_id)\n",
    "test = test.pivot(index='id',columns='d',values='sold').reset_index()\n",
    "out_eva=pd.merge(left=sample_sub[30490:],right=test,on='id')\n",
    "out_eva.columns=f_col\n",
    "\n",
    "submit= pd.concat([out_val,out_eva],ignore_index=True)"
   ]
  },
  {
   "cell_type": "code",
   "execution_count": null,
   "metadata": {},
   "outputs": [],
   "source": [
    "submit.to_csv('submission_LGBM.csv')"
   ]
  }
 ],
 "metadata": {
  "kernelspec": {
   "display_name": "Python 3",
   "language": "python",
   "name": "python3"
  },
  "language_info": {
   "codemirror_mode": {
    "name": "ipython",
    "version": 3
   },
   "file_extension": ".py",
   "mimetype": "text/x-python",
   "name": "python",
   "nbconvert_exporter": "python",
   "pygments_lexer": "ipython3",
   "version": "3.10.11"
  },
  "orig_nbformat": 4
 },
 "nbformat": 4,
 "nbformat_minor": 2
}
